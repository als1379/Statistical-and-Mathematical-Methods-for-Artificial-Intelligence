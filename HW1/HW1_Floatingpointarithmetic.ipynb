{
  "nbformat": 4,
  "nbformat_minor": 0,
  "metadata": {
    "colab": {
      "provenance": [],
      "toc_visible": true
    },
    "kernelspec": {
      "name": "python3",
      "display_name": "Python 3"
    },
    "language_info": {
      "name": "python"
    }
  },
  "cells": [
    {
      "cell_type": "markdown",
      "source": [
        "## Calculating Machine Epsilon"
      ],
      "metadata": {
        "id": "PhDBx57U8sFC"
      }
    },
    {
      "cell_type": "code",
      "execution_count": 1,
      "metadata": {
        "id": "vnVxvNTW7eqR"
      },
      "outputs": [],
      "source": [
        "# Initialize epsilon\n",
        "epsilon = 1.0\n",
        "\n",
        "# Iteratively divide epsilon by 2 until 1 + epsilon equals 1\n",
        "while (1.0 + epsilon) > 1.0:\n",
        "    epsilon /= 2\n",
        "\n",
        "# The previous value of epsilon before it became too small\n",
        "machine_epsilon = epsilon * 2\n"
      ]
    },
    {
      "cell_type": "code",
      "source": [
        "machine_epsilon"
      ],
      "metadata": {
        "colab": {
          "base_uri": "https://localhost:8080/"
        },
        "id": "3sV0qQYQ8y2h",
        "outputId": "86a52231-fb30-4c25-a68a-1da742ac48f7"
      },
      "execution_count": 2,
      "outputs": [
        {
          "output_type": "execute_result",
          "data": {
            "text/plain": [
              "2.220446049250313e-16"
            ]
          },
          "metadata": {},
          "execution_count": 2
        }
      ]
    },
    {
      "cell_type": "code",
      "source": [
        "1 + machine_epsilon > 1"
      ],
      "metadata": {
        "colab": {
          "base_uri": "https://localhost:8080/"
        },
        "id": "T4QZQ5Nb83cE",
        "outputId": "10001a5d-3bfa-49a3-ed26-17f5310d770c"
      },
      "execution_count": 3,
      "outputs": [
        {
          "output_type": "execute_result",
          "data": {
            "text/plain": [
              "True"
            ]
          },
          "metadata": {},
          "execution_count": 3
        }
      ]
    },
    {
      "cell_type": "code",
      "source": [
        "1 + machine_epsilon/2 > 1"
      ],
      "metadata": {
        "colab": {
          "base_uri": "https://localhost:8080/"
        },
        "id": "4CY96jCr87A-",
        "outputId": "e483a2e0-da44-4882-d346-a248ff904657"
      },
      "execution_count": 4,
      "outputs": [
        {
          "output_type": "execute_result",
          "data": {
            "text/plain": [
              "False"
            ]
          },
          "metadata": {},
          "execution_count": 4
        }
      ]
    },
    {
      "cell_type": "markdown",
      "source": [
        "## Calculating $e$ by computing $a_n = \\left(1 + \\frac{1}{n}\\right)^n$"
      ],
      "metadata": {
        "id": "IyWWSv-s9dbM"
      }
    },
    {
      "cell_type": "code",
      "source": [
        "import math\n",
        "\n",
        "# The true value of e\n",
        "true_e = math.e\n",
        "\n",
        "# Function to compute a_n\n",
        "def compute_a_n(n):\n",
        "    return (1 + 1 / n) ** n\n",
        "\n",
        "# Choose different values of n and compute a_n\n",
        "values_of_n = [1, 10, 100, 1000, 10000, 100000, 1000000, 10000000, 100000000, 1000000000, 10000000000]\n",
        "results = []\n",
        "\n",
        "for n in values_of_n:\n",
        "    a_n = compute_a_n(n)\n",
        "    error = abs(a_n - true_e)\n",
        "    results.append((n, a_n, error))\n",
        "\n",
        "# Print the results\n",
        "print(f\"{'n':<10}{'a_n':<20}{'Error':<20}\")\n",
        "for n, a_n, error in results:\n",
        "    print(f\"{n:<10}{a_n:<20.12f}{error:<20.12f}\")\n",
        "\n",
        "# Compute for a very large n\n",
        "large_n = 10**7\n",
        "large_a_n = compute_a_n(large_n)\n",
        "large_error = abs(large_a_n - true_e)\n",
        "\n",
        "print(\"\\nFor a very large n:\")\n",
        "print(f\"n = {large_n}, a_n = {large_a_n:.12f}, Error = {large_error:.12f}\")\n"
      ],
      "metadata": {
        "colab": {
          "base_uri": "https://localhost:8080/"
        },
        "id": "pAqM1U6E8-Oc",
        "outputId": "5b1151a6-a274-4833-cfe2-2456b498b272"
      },
      "execution_count": 8,
      "outputs": [
        {
          "output_type": "stream",
          "name": "stdout",
          "text": [
            "n         a_n                 Error               \n",
            "1         2.000000000000      0.718281828459      \n",
            "10        2.593742460100      0.124539368359      \n",
            "100       2.704813829422      0.013467999038      \n",
            "1000      2.716923932236      0.001357896223      \n",
            "10000     2.718145926825      0.000135901634      \n",
            "100000    2.718268237192      0.000013591267      \n",
            "1000000   2.718280469096      0.000001359363      \n",
            "10000000  2.718281694132      0.000000134327      \n",
            "100000000 2.718281798347      0.000000030112      \n",
            "10000000002.718282052012      0.000000223553      \n",
            "100000000002.718282053235      0.000000224776      \n",
            "\n",
            "For a very large n:\n",
            "n = 10000000, a_n = 2.718281694132, Error = 0.000000134327\n"
          ]
        }
      ]
    },
    {
      "cell_type": "markdown",
      "source": [
        "### Observations:\n",
        "\n",
        "1. **For small values of n**:\n",
        "   - The value of $ a_n $ deviates significantly from the true value of $e$. This is expected because the sequence has not yet started to converge.\n",
        "\n",
        "2. **As n increases**:\n",
        "   - The value of $a_n$ converges closer to $e$. The absolute error $|a_n - e|$ decreases, indicating that the sequence is approaching the Nepero number more accurately.\n",
        "\n",
        "3. **For very large values of n**:\n",
        "   - The computed value of $a_n$ becomes extremely close to $e$, and the error is very small.\n",
        "   - However, for extremely large $n$ (e.g., $10^9$ or more), numerical precision limitations of floating-point arithmetic can cause minor inaccuracies or instability.\n",
        "\n",
        "4. **Conclusion**:\n",
        "   - The sequence $a_n = \\left(1 + \\frac{1}{n}\\right)^n$ converges to $e$ as $n$ grows larger.\n",
        "   - It demonstrates the foundational idea of the limit definition of $e$ and shows the role of increasing $n$ for convergence.\n"
      ],
      "metadata": {
        "id": "N5wPS6mt9nJR"
      }
    },
    {
      "cell_type": "markdown",
      "source": [
        "## Computing rank and eigen-values and check that metrices are full-rank"
      ],
      "metadata": {
        "id": "k0SEIrf4_w3S"
      }
    },
    {
      "cell_type": "code",
      "source": [
        "import numpy as np\n",
        "\n",
        "# Define the matrices\n",
        "A = np.array([[4, 2], [1, 3]])\n",
        "B = np.array([[4, 2], [2, 1]])\n",
        "\n",
        "# Compute the rank of the matrices\n",
        "rank_A = np.linalg.matrix_rank(A)\n",
        "rank_B = np.linalg.matrix_rank(B)\n",
        "\n",
        "# Compute the eigenvalues of the matrices\n",
        "eigenvalues_A = np.linalg.eigvals(A)\n",
        "eigenvalues_B = np.linalg.eigvals(B)\n",
        "\n",
        "# Determine if the matrices are full-rank\n",
        "full_rank_A = rank_A == min(A.shape)\n",
        "full_rank_B = rank_B == min(B.shape)\n",
        "\n",
        "# Print the results\n",
        "print(\"Matrix A:\")\n",
        "print(f\"Rank: {rank_A}\")\n",
        "print(f\"Eigenvalues: {eigenvalues_A}\")\n",
        "print(f\"Is full-rank: {full_rank_A}\")\n",
        "\n",
        "print(\"\\nMatrix B:\")\n",
        "print(f\"Rank: {rank_B}\")\n",
        "print(f\"Eigenvalues: {eigenvalues_B}\")\n",
        "print(f\"Is full-rank: {full_rank_B}\")\n"
      ],
      "metadata": {
        "colab": {
          "base_uri": "https://localhost:8080/"
        },
        "id": "Be0wi-2T9evj",
        "outputId": "4ff4803e-74d5-4db7-bfda-2abebe85c1e1"
      },
      "execution_count": 9,
      "outputs": [
        {
          "output_type": "stream",
          "name": "stdout",
          "text": [
            "Matrix A:\n",
            "Rank: 2\n",
            "Eigenvalues: [5. 2.]\n",
            "Is full-rank: True\n",
            "\n",
            "Matrix B:\n",
            "Rank: 1\n",
            "Eigenvalues: [5. 0.]\n",
            "Is full-rank: False\n"
          ]
        }
      ]
    },
    {
      "cell_type": "markdown",
      "source": [
        "### Observations:\n",
        "- Rank of a Matrix:\n",
        "A matrix is full-rank if its rank equals the smaller of its dimensions. For a\n",
        "2\n",
        "×\n",
        "2\n",
        " matrix, full-rank means rank = 2.\n",
        "- If a matrix has an eigenvalue equal to zero, its rank will be smaller than its lower dimention, therefore it is not full-rank\n",
        "\n"
      ],
      "metadata": {
        "id": "vUj-mHgZAbKp"
      }
    },
    {
      "cell_type": "code",
      "source": [],
      "metadata": {
        "id": "GL5_HIsu_uV0"
      },
      "execution_count": null,
      "outputs": []
    }
  ]
}