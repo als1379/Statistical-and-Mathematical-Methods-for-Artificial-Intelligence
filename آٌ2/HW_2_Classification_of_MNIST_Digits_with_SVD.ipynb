{
  "cells": [
    {
      "cell_type": "markdown",
      "metadata": {
        "id": "view-in-github",
        "colab_type": "text"
      },
      "source": [
        "<a href=\"https://colab.research.google.com/github/als1379/Statistical-and-Mathematical-Methods-for-Artificial-Intelligence/blob/main/%D8%A2%D9%8C2/HW_2_Classification_of_MNIST_Digits_with_SVD.ipynb\" target=\"_parent\"><img src=\"https://colab.research.google.com/assets/colab-badge.svg\" alt=\"Open In Colab\"/></a>"
      ]
    },
    {
      "cell_type": "markdown",
      "metadata": {
        "id": "KB70g6F03igE"
      },
      "source": [
        "# Classification of MNIST Digits with SVD"
      ]
    },
    {
      "cell_type": "markdown",
      "metadata": {
        "id": "bt6Q4E523lfy"
      },
      "source": [
        "## Download dataset\n"
      ]
    },
    {
      "cell_type": "code",
      "execution_count": 1,
      "metadata": {
        "colab": {
          "base_uri": "https://localhost:8080/"
        },
        "id": "0RjTUFmM5G2l",
        "outputId": "a88586b6-2a3d-4a46-f19e-0980f5642131"
      },
      "outputs": [
        {
          "output_type": "stream",
          "name": "stdout",
          "text": [
            "Downloading from https://www.kaggle.com/api/v1/datasets/download/animatronbot/mnist-digit-recognizer?dataset_version_number=1...\n"
          ]
        },
        {
          "output_type": "stream",
          "name": "stderr",
          "text": [
            "100%|██████████| 9.16M/9.16M [00:00<00:00, 23.4MB/s]"
          ]
        },
        {
          "output_type": "stream",
          "name": "stdout",
          "text": [
            "Extracting files...\n"
          ]
        },
        {
          "output_type": "stream",
          "name": "stderr",
          "text": [
            "\n"
          ]
        },
        {
          "output_type": "stream",
          "name": "stdout",
          "text": [
            "Path to dataset files: /root/.cache/kagglehub/datasets/animatronbot/mnist-digit-recognizer/versions/1\n"
          ]
        }
      ],
      "source": [
        "import kagglehub\n",
        "\n",
        "# Download latest version\n",
        "path = kagglehub.dataset_download(\"animatronbot/mnist-digit-recognizer\")\n",
        "\n",
        "print(\"Path to dataset files:\", path)"
      ]
    },
    {
      "cell_type": "code",
      "execution_count": 2,
      "metadata": {
        "id": "01DJrCmo3puE"
      },
      "outputs": [],
      "source": [
        "import pandas as pd\n",
        "import numpy as np\n",
        "\n",
        "dataset = pd.read_csv(path + '/train.csv')"
      ]
    },
    {
      "cell_type": "code",
      "execution_count": 3,
      "metadata": {
        "colab": {
          "base_uri": "https://localhost:8080/",
          "height": 458
        },
        "id": "ogzYJe-239aK",
        "outputId": "6d6c38eb-2653-45a5-ae37-ebe561583ef5"
      },
      "outputs": [
        {
          "output_type": "execute_result",
          "data": {
            "text/plain": [
              "label       1\n",
              "pixel0      0\n",
              "pixel1      0\n",
              "pixel2      0\n",
              "pixel3      0\n",
              "           ..\n",
              "pixel779    0\n",
              "pixel780    0\n",
              "pixel781    0\n",
              "pixel782    0\n",
              "pixel783    0\n",
              "Name: 0, Length: 785, dtype: int64"
            ],
            "text/html": [
              "<div>\n",
              "<style scoped>\n",
              "    .dataframe tbody tr th:only-of-type {\n",
              "        vertical-align: middle;\n",
              "    }\n",
              "\n",
              "    .dataframe tbody tr th {\n",
              "        vertical-align: top;\n",
              "    }\n",
              "\n",
              "    .dataframe thead th {\n",
              "        text-align: right;\n",
              "    }\n",
              "</style>\n",
              "<table border=\"1\" class=\"dataframe\">\n",
              "  <thead>\n",
              "    <tr style=\"text-align: right;\">\n",
              "      <th></th>\n",
              "      <th>0</th>\n",
              "    </tr>\n",
              "  </thead>\n",
              "  <tbody>\n",
              "    <tr>\n",
              "      <th>label</th>\n",
              "      <td>1</td>\n",
              "    </tr>\n",
              "    <tr>\n",
              "      <th>pixel0</th>\n",
              "      <td>0</td>\n",
              "    </tr>\n",
              "    <tr>\n",
              "      <th>pixel1</th>\n",
              "      <td>0</td>\n",
              "    </tr>\n",
              "    <tr>\n",
              "      <th>pixel2</th>\n",
              "      <td>0</td>\n",
              "    </tr>\n",
              "    <tr>\n",
              "      <th>pixel3</th>\n",
              "      <td>0</td>\n",
              "    </tr>\n",
              "    <tr>\n",
              "      <th>...</th>\n",
              "      <td>...</td>\n",
              "    </tr>\n",
              "    <tr>\n",
              "      <th>pixel779</th>\n",
              "      <td>0</td>\n",
              "    </tr>\n",
              "    <tr>\n",
              "      <th>pixel780</th>\n",
              "      <td>0</td>\n",
              "    </tr>\n",
              "    <tr>\n",
              "      <th>pixel781</th>\n",
              "      <td>0</td>\n",
              "    </tr>\n",
              "    <tr>\n",
              "      <th>pixel782</th>\n",
              "      <td>0</td>\n",
              "    </tr>\n",
              "    <tr>\n",
              "      <th>pixel783</th>\n",
              "      <td>0</td>\n",
              "    </tr>\n",
              "  </tbody>\n",
              "</table>\n",
              "<p>785 rows × 1 columns</p>\n",
              "</div><br><label><b>dtype:</b> int64</label>"
            ]
          },
          "metadata": {},
          "execution_count": 3
        }
      ],
      "source": [
        "dataset.iloc[0]"
      ]
    },
    {
      "cell_type": "code",
      "execution_count": 4,
      "metadata": {
        "colab": {
          "base_uri": "https://localhost:8080/"
        },
        "id": "OgzMvz1p4ERv",
        "outputId": "8844310a-7706-4f4f-ea3b-8e5c33f5d604"
      },
      "outputs": [
        {
          "output_type": "stream",
          "name": "stdout",
          "text": [
            "Shape of X: (42000, 784)\n",
            "Shape of y: (42000,)\n"
          ]
        }
      ],
      "source": [
        "y = dataset['label']\n",
        "X = dataset.drop('label', axis=1)\n",
        "\n",
        "print(\"Shape of X:\", X.shape)\n",
        "print(\"Shape of y:\", y.shape)"
      ]
    },
    {
      "cell_type": "markdown",
      "metadata": {
        "id": "BeIvyIg35XND"
      },
      "source": [
        "## Visualize images"
      ]
    },
    {
      "cell_type": "code",
      "execution_count": 5,
      "metadata": {
        "colab": {
          "base_uri": "https://localhost:8080/",
          "height": 817
        },
        "id": "qiExHpZc4fqH",
        "outputId": "69ef2ee4-1e5b-4861-e2ff-92816a89a715"
      },
      "outputs": [
        {
          "output_type": "display_data",
          "data": {
            "text/plain": [
              "<Figure size 1500x1000 with 6 Axes>"
            ],
            "image/png": "[encoded data removed]"
          },
          "metadata": {}
        }
      ],
      "source": [
        "import matplotlib.pyplot as plt\n",
        "\n",
        "def visualize_image(index, X):\n",
        "  try:\n",
        "    img = X.iloc[index].values.reshape(28, 28)\n",
        "    return img\n",
        "  except IndexError:\n",
        "    print(f\"Index {index} is out of range. Please provide a valid index.\")\n",
        "  except Exception as e:\n",
        "    print(f\"An error occurred: {e}\")\n",
        "\n",
        "indices = [1, 5, 10, 20, 50, 100]\n",
        "fig, axs = plt.subplots(2, 3, figsize=(15, 10))\n",
        "axs = axs.ravel()\n",
        "\n",
        "for i, index in enumerate(indices):\n",
        "    axs[i].imshow(visualize_image(index, X), cmap='gray')\n",
        "    axs[i].set_title(f\"Digit {index} (label {y[index]})\")\n",
        "    axs[i].axis('off')\n"
      ]
    },
    {
      "cell_type": "markdown",
      "metadata": {
        "id": "nkR6625u5uPR"
      },
      "source": [
        "## Filter 3 and 4"
      ]
    },
    {
      "cell_type": "code",
      "execution_count": 6,
      "metadata": {
        "colab": {
          "base_uri": "https://localhost:8080/"
        },
        "id": "9_wvh9vh4y2I",
        "outputId": "81d9f731-a44a-498b-abcd-5ddebdd16202"
      },
      "outputs": [
        {
          "output_type": "stream",
          "name": "stdout",
          "text": [
            "Shape of X_filtered: (8423, 784)\n",
            "Shape of y_filtered: (8423,)\n"
          ]
        }
      ],
      "source": [
        "import numpy as np\n",
        "\n",
        "# Assuming X is already defined as a NumPy array (if not, convert it using X = np.array(X))\n",
        "X_filtered = X[(y == 3) | (y == 4)]\n",
        "y_filtered = y[(y == 3) | (y == 4)]\n",
        "\n",
        "print(\"Shape of X_filtered:\", X_filtered.shape)\n",
        "print(\"Shape of y_filtered:\", y_filtered.shape)"
      ]
    },
    {
      "cell_type": "code",
      "execution_count": 7,
      "metadata": {
        "colab": {
          "base_uri": "https://localhost:8080/"
        },
        "id": "qKmnp2Qb6JmF",
        "outputId": "9b9a8e75-a661-4a4d-9233-27548b904085"
      },
      "outputs": [
        {
          "output_type": "stream",
          "name": "stdout",
          "text": [
            "Shape of X_filtered: (8423, 784)\n",
            "Shape of y_filtered: (8423,)\n"
          ]
        }
      ],
      "source": [
        "X_filtered = X_filtered.reset_index(drop=True)\n",
        "y_filtered = y_filtered.reset_index(drop=True)\n",
        "print(\"Shape of X_filtered:\", X_filtered.shape)\n",
        "print(\"Shape of y_filtered:\", y_filtered.shape)"
      ]
    },
    {
      "cell_type": "code",
      "execution_count": 8,
      "metadata": {
        "colab": {
          "base_uri": "https://localhost:8080/",
          "height": 458
        },
        "id": "7V10QLXB6E7_",
        "outputId": "2509a8a4-ab22-468f-862b-0b67c689b7e1"
      },
      "outputs": [
        {
          "output_type": "execute_result",
          "data": {
            "text/plain": [
              "0       4\n",
              "1       3\n",
              "2       3\n",
              "3       3\n",
              "4       3\n",
              "       ..\n",
              "8418    4\n",
              "8419    3\n",
              "8420    3\n",
              "8421    3\n",
              "8422    4\n",
              "Name: label, Length: 8423, dtype: int64"
            ],
            "text/html": [
              "<div>\n",
              "<style scoped>\n",
              "    .dataframe tbody tr th:only-of-type {\n",
              "        vertical-align: middle;\n",
              "    }\n",
              "\n",
              "    .dataframe tbody tr th {\n",
              "        vertical-align: top;\n",
              "    }\n",
              "\n",
              "    .dataframe thead th {\n",
              "        text-align: right;\n",
              "    }\n",
              "</style>\n",
              "<table border=\"1\" class=\"dataframe\">\n",
              "  <thead>\n",
              "    <tr style=\"text-align: right;\">\n",
              "      <th></th>\n",
              "      <th>label</th>\n",
              "    </tr>\n",
              "  </thead>\n",
              "  <tbody>\n",
              "    <tr>\n",
              "      <th>0</th>\n",
              "      <td>4</td>\n",
              "    </tr>\n",
              "    <tr>\n",
              "      <th>1</th>\n",
              "      <td>3</td>\n",
              "    </tr>\n",
              "    <tr>\n",
              "      <th>2</th>\n",
              "      <td>3</td>\n",
              "    </tr>\n",
              "    <tr>\n",
              "      <th>3</th>\n",
              "      <td>3</td>\n",
              "    </tr>\n",
              "    <tr>\n",
              "      <th>4</th>\n",
              "      <td>3</td>\n",
              "    </tr>\n",
              "    <tr>\n",
              "      <th>...</th>\n",
              "      <td>...</td>\n",
              "    </tr>\n",
              "    <tr>\n",
              "      <th>8418</th>\n",
              "      <td>4</td>\n",
              "    </tr>\n",
              "    <tr>\n",
              "      <th>8419</th>\n",
              "      <td>3</td>\n",
              "    </tr>\n",
              "    <tr>\n",
              "      <th>8420</th>\n",
              "      <td>3</td>\n",
              "    </tr>\n",
              "    <tr>\n",
              "      <th>8421</th>\n",
              "      <td>3</td>\n",
              "    </tr>\n",
              "    <tr>\n",
              "      <th>8422</th>\n",
              "      <td>4</td>\n",
              "    </tr>\n",
              "  </tbody>\n",
              "</table>\n",
              "<p>8423 rows × 1 columns</p>\n",
              "</div><br><label><b>dtype:</b> int64</label>"
            ]
          },
          "metadata": {},
          "execution_count": 8
        }
      ],
      "source": [
        "y_filtered"
      ]
    },
    {
      "cell_type": "code",
      "execution_count": 9,
      "metadata": {
        "colab": {
          "base_uri": "https://localhost:8080/",
          "height": 817
        },
        "id": "Ym3n2Zs-5tis",
        "outputId": "1ddf3bd7-b1a3-4e12-fd28-661a58d1b345"
      },
      "outputs": [
        {
          "output_type": "display_data",
          "data": {
            "text/plain": [
              "<Figure size 1500x1000 with 6 Axes>"
            ],
            "image/png": "[encoded data removed]"
          },
          "metadata": {}
        }
      ],
      "source": [
        "indices = [1, 5, 10, 20, 50, 100]\n",
        "fig, axs = plt.subplots(2, 3, figsize=(15, 10))\n",
        "axs = axs.ravel()\n",
        "\n",
        "for i, index in enumerate(indices):\n",
        "    axs[i].imshow(visualize_image(index, X_filtered), cmap='gray')\n",
        "    axs[i].set_title(f\"Digit {index} (label {y_filtered[index]})\")\n",
        "    axs[i].axis('off')\n"
      ]
    },
    {
      "cell_type": "markdown",
      "metadata": {
        "id": "85Ys3kQg6sOv"
      },
      "source": [
        "## Split test and train"
      ]
    },
    {
      "cell_type": "code",
      "execution_count": 10,
      "metadata": {
        "colab": {
          "base_uri": "https://localhost:8080/"
        },
        "id": "WRedg_DS59w7",
        "outputId": "38c85930-1925-42b0-ee75-599ae4e593d2"
      },
      "outputs": [
        {
          "output_type": "stream",
          "name": "stdout",
          "text": [
            "Shape of X_train: (6738, 784)\n",
            "Shape of y_train: (6738,)\n",
            "Shape of X_test: (1685, 784)\n",
            "Shape of y_test: (1685,)\n"
          ]
        }
      ],
      "source": [
        "from sklearn.model_selection import train_test_split\n",
        "\n",
        "# Split data into training and testing sets\n",
        "X_train, X_test, y_train, y_test = train_test_split(X_filtered, y_filtered, test_size=0.2, random_state=42)\n",
        "\n",
        "print(\"Shape of X_train:\", X_train.shape)\n",
        "print(\"Shape of y_train:\", y_train.shape)\n",
        "print(\"Shape of X_test:\", X_test.shape)\n",
        "print(\"Shape of y_test:\", y_test.shape)"
      ]
    },
    {
      "cell_type": "markdown",
      "metadata": {
        "id": "dAiEAeORFkF5"
      },
      "source": [
        "## Splite each class\n",
        "c1 = (digit 3), c2 = (digit 4)"
      ]
    },
    {
      "cell_type": "code",
      "execution_count": 11,
      "metadata": {
        "colab": {
          "base_uri": "https://localhost:8080/"
        },
        "id": "mnWJ7dVL6xcW",
        "outputId": "837a3913-b7d4-44b2-a5e6-71050abf7226"
      },
      "outputs": [
        {
          "output_type": "stream",
          "name": "stdout",
          "text": [
            "Shape of X1_train: (784, 3477)\n",
            "Shape of X2_train: (784, 3261)\n"
          ]
        }
      ],
      "source": [
        "# Create X1 (3-digit images) and X2 (4-digit images)\n",
        "X1_train = X_train[y_train == 3].T\n",
        "X2_train = X_train[y_train == 4].T\n",
        "\n",
        "print(\"Shape of X1_train:\", X1_train.shape)\n",
        "print(\"Shape of X2_train:\", X2_train.shape)"
      ]
    },
    {
      "cell_type": "markdown",
      "metadata": {
        "id": "lSeN5HGjFuO7"
      },
      "source": [
        "## Compute SVD of each class of training set"
      ]
    },
    {
      "cell_type": "code",
      "execution_count": 12,
      "metadata": {
        "id": "1iTLiKDgFUdX"
      },
      "outputs": [],
      "source": [
        "U1, S1, Vh1 = np.linalg.svd(X1_train, full_matrices=False)\n",
        "U2, S2, Vh2 = np.linalg.svd(X2_train, full_matrices=False)"
      ]
    },
    {
      "cell_type": "markdown",
      "metadata": {
        "id": "qYN8c2x-GLYK"
      },
      "source": [
        "## Get a sample and compute projection, and compute the distance of projection into each class"
      ]
    },
    {
      "cell_type": "code",
      "execution_count": 13,
      "metadata": {
        "colab": {
          "base_uri": "https://localhost:8080/",
          "height": 428
        },
        "id": "glolsjkzF31J",
        "outputId": "0419e960-4d05-4588-c3f5-f3756beb8d65"
      },
      "outputs": [
        {
          "output_type": "display_data",
          "data": {
            "text/plain": [
              "<Figure size 640x480 with 1 Axes>"
            ],
            "image/png": "[encoded data removed]"
          },
          "metadata": {}
        }
      ],
      "source": [
        "# Sample from X_test and y_test\n",
        "sample_index = 100  # Choose a sample index (you can change this)\n",
        "sample_x = X_test.iloc[sample_index].values.reshape(28, 28)\n",
        "sample_y = y_test.iloc[sample_index]\n",
        "\n",
        "# Visualize the sample\n",
        "plt.imshow(sample_x, cmap='gray')\n",
        "plt.title(f\"Digit (label {sample_y})\")\n",
        "plt.axis('off')\n",
        "plt.show()"
      ]
    },
    {
      "cell_type": "markdown",
      "metadata": {
        "id": "PyyibkoCJuZU"
      },
      "source": [
        "compute $x_1^\\perp$ and  $x_2^\\perp$"
      ]
    },
    {
      "cell_type": "code",
      "execution_count": 14,
      "metadata": {
        "id": "WfuOdsMUH9Dm"
      },
      "outputs": [],
      "source": [
        "x_sample = X_test.iloc[sample_index]\n",
        "x_1_perp = U1 @ (U1.T @ x_sample)\n",
        "x_2_perp = U2 @ (U2.T @ x_sample)"
      ]
    },
    {
      "cell_type": "markdown",
      "metadata": {
        "id": "-6s3mY2jJ8dO"
      },
      "source": [
        "compute $d_1 = || x − x_1^\\perp ||_2$ and $d_2 = || x − x_2^\\perp ||_2$"
      ]
    },
    {
      "cell_type": "code",
      "execution_count": 15,
      "metadata": {
        "colab": {
          "base_uri": "https://localhost:8080/"
        },
        "id": "g5z9Dhk9JEJN",
        "outputId": "440187b1-a455-429d-93da-a7eeb4f875c8"
      },
      "outputs": [
        {
          "output_type": "stream",
          "name": "stdout",
          "text": [
            "Distance between x_sample and x1_prep (norm 2): 3.267214902135596e-12\n",
            "Distance between x_sample and x2_prep (norm 2): 4.623439032304527e-12\n"
          ]
        }
      ],
      "source": [
        "# Assuming x_sample, x_1_perp, and x_2_perp are already defined as numpy arrays\n",
        "distance_x1 = np.linalg.norm(x_sample - x_1_perp)\n",
        "distance_x2 = np.linalg.norm(x_sample - x_2_perp)\n",
        "\n",
        "print(f\"Distance between x_sample and x1_prep (norm 2): {distance_x1}\")\n",
        "print(f\"Distance between x_sample and x2_prep (norm 2): {distance_x2}\")"
      ]
    },
    {
      "cell_type": "code",
      "execution_count": 16,
      "metadata": {
        "id": "c0qs06XwJZpN"
      },
      "outputs": [],
      "source": [
        "def classify_digit(distance_x1, distance_x2):\n",
        "    if distance_x1 < distance_x2:\n",
        "        return 3\n",
        "    else:\n",
        "        return 4"
      ]
    },
    {
      "cell_type": "code",
      "execution_count": 17,
      "metadata": {
        "colab": {
          "base_uri": "https://localhost:8080/"
        },
        "id": "pv0WkfwuKLyt",
        "outputId": "53035b30-7470-4ca0-a17c-99982a8f1a57"
      },
      "outputs": [
        {
          "output_type": "execute_result",
          "data": {
            "text/plain": [
              "3"
            ]
          },
          "metadata": {},
          "execution_count": 17
        }
      ],
      "source": [
        "classify_digit(distance_x1, distance_x2)"
      ]
    },
    {
      "cell_type": "markdown",
      "metadata": {
        "id": "RMV8KfjzKPwk"
      },
      "source": [
        "True prediction for this sample"
      ]
    },
    {
      "cell_type": "markdown",
      "metadata": {
        "id": "xaW6lBgMKVa3"
      },
      "source": [
        "## Classify all test dataset and compute misclassification rate"
      ]
    },
    {
      "cell_type": "code",
      "execution_count": 18,
      "metadata": {
        "colab": {
          "base_uri": "https://localhost:8080/"
        },
        "id": "WfCrPcCwKOq1",
        "outputId": "8cfb7e30-4e0a-4ee9-b130-4a4fbe8690e1"
      },
      "outputs": [
        {
          "output_type": "stream",
          "name": "stdout",
          "text": [
            "[3, 4, 4, 4, 3, 3, 3, 3, 3, 3, 3, 3, 3, 3, 3, 3, 4, 3, 4, 4, 4, 4, 4, 3, 4, 3, 4, 3, 3, 4, 4, 4, 4, 4, 4, 3, 3, 3, 3, 3, 4, 3, 3, 3, 3, 4, 3, 3, 3, 4, 4, 3, 3, 4, 3, 3, 4, 4, 3, 4, 4, 4, 4, 3, 3, 4, 3, 3, 4, 4, 3, 3, 4, 4, 4, 4, 4, 3, 3, 4, 4, 3, 3, 4, 4, 3, 3, 4, 3, 4, 4, 4, 3, 3, 4, 3, 3, 3, 4, 4, 3, 3, 4, 3, 4, 3, 3, 3, 3, 3, 3, 4, 3, 3, 4, 4, 3, 3, 3, 3, 3, 4, 4, 3, 3, 3, 3, 4, 4, 3, 4, 3, 4, 3, 3, 4, 3, 3, 4, 3, 3, 4, 4, 3, 3, 3, 3, 4, 4, 4, 3, 3, 3, 4, 3, 4, 3, 3, 3, 3, 4, 4, 3, 3, 4, 4, 3, 3, 3, 3, 3, 3, 3, 3, 4, 3, 4, 3, 4, 4, 3, 4, 3, 4, 3, 4, 3, 3, 3, 4, 3, 3, 4, 3, 3, 3, 4, 3, 3, 3, 4, 3, 4, 4, 3, 3, 4, 3, 3, 4, 3, 3, 3, 4, 3, 4, 3, 3, 4, 4, 3, 4, 3, 3, 4, 4, 4, 3, 3, 3, 3, 4, 4, 4, 4, 3, 3, 4, 4, 3, 4, 3, 3, 3, 4, 4, 4, 4, 3, 3, 3, 3, 4, 3, 3, 3, 4, 3, 3, 3, 4, 4, 3, 3, 3, 3, 4, 3, 4, 3, 4, 4, 4, 4, 3, 4, 4, 3, 4, 4, 4, 4, 3, 3, 4, 3, 4, 4, 3, 4, 3, 4, 4, 3, 3, 3, 4, 4, 3, 3, 4, 4, 3, 4, 3, 4, 3, 4, 4, 3, 4, 3, 3, 3, 4, 3, 3, 4, 4, 3, 3, 4, 4, 4, 3, 4, 3, 3, 3, 3, 3, 4, 3, 3, 3, 4, 3, 3, 3, 4, 3, 3, 3, 4, 4, 4, 3, 3, 4, 3, 3, 3, 4, 4, 4, 3, 3, 3, 3, 4, 3, 3, 3, 4, 4, 3, 4, 3, 4, 4, 4, 4, 4, 4, 3, 4, 3, 4, 3, 3, 4, 3, 3, 3, 4, 4, 3, 3, 3, 3, 4, 3, 3, 4, 4, 4, 3, 4, 3, 4, 3, 4, 4, 4, 4, 4, 3, 3, 3, 3, 3, 4, 4, 4, 4, 3, 3, 3, 4, 3, 3, 3, 3, 3, 3, 4, 3, 4, 3, 3, 3, 4, 3, 3, 4, 4, 4, 4, 3, 4, 4, 4, 4, 4, 4, 4, 3, 4, 3, 4, 4, 3, 3, 4, 3, 4, 4, 4, 4, 4, 3, 4, 3, 4, 3, 3, 3, 3, 4, 4, 3, 3, 3, 3, 4, 3, 4, 4, 4, 3, 3, 4, 4, 3, 3, 3, 3, 3, 3, 4, 3, 3, 4, 3, 3, 4, 4, 4, 3, 4, 4, 4, 3, 4, 4, 3, 3, 3, 3, 3, 3, 4, 3, 3, 3, 4, 4, 4, 3, 4, 3, 3, 4, 4, 4, 3, 4, 4, 3, 3, 3, 3, 3, 3, 4, 4, 3, 4, 3, 3, 3, 3, 4, 3, 3, 3, 4, 3, 3, 4, 4, 3, 4, 4, 3, 3, 3, 4, 3, 4, 3, 4, 4, 3, 3, 3, 3, 4, 4, 4, 3, 4, 4, 3, 4, 4, 3, 4, 3, 4, 4, 3, 3, 4, 3, 3, 4, 3, 4, 3, 3, 3, 4, 3, 3, 3, 3, 3, 4, 3, 4, 4, 4, 4, 3, 3, 3, 3, 3, 4, 3, 3, 3, 3, 3, 4, 3, 4, 4, 4, 3, 3, 3, 3, 4, 3, 3, 4, 3, 4, 3, 3, 4, 4, 3, 3, 3, 4, 4, 3, 4, 4, 4, 3, 3, 3, 3, 4, 3, 4, 4, 4, 3, 3, 4, 3, 4, 3, 3, 3, 3, 3, 3, 3, 3, 4, 3, 4, 4, 3, 4, 4, 4, 4, 3, 4, 3, 3, 4, 4, 3, 4, 3, 4, 4, 3, 4, 4, 3, 4, 4, 3, 3, 4, 4, 4, 3, 3, 3, 3, 4, 3, 4, 3, 4, 3, 3, 4, 4, 3, 4, 3, 3, 4, 3, 4, 3, 3, 3, 3, 4, 4, 3, 3, 4, 3, 3, 3, 3, 3, 4, 4, 3, 4, 4, 4, 3, 3, 3, 3, 3, 3, 4, 3, 3, 4, 4, 4, 3, 3, 3, 3, 3, 4, 4, 3, 4, 3, 3, 3, 3, 4, 3, 4, 4, 3, 3, 4, 3, 4, 3, 3, 3, 3, 3, 3, 3, 4, 4, 3, 3, 4, 3, 4, 4, 3, 4, 4, 4, 3, 3, 3, 3, 3, 4, 3, 3, 3, 4, 3, 3, 4, 4, 3, 3, 4, 4, 4, 3, 3, 3, 3, 3, 3, 3, 3, 4, 3, 3, 4, 4, 4, 3, 3, 3, 4, 4, 3, 4, 3, 3, 3, 3, 3, 4, 3, 3, 4, 4, 4, 4, 3, 3, 4, 3, 3, 3, 3, 3, 3, 3, 4, 4, 3, 3, 4, 4, 4, 3, 3, 3, 3, 4, 4, 4, 3, 3, 3, 3, 4, 3, 4, 3, 3, 4, 3, 3, 3, 3, 3, 4, 3, 4, 4, 4, 4, 3, 4, 4, 4, 4, 3, 3, 3, 3, 4, 4, 3, 4, 4, 3, 3, 4, 4, 3, 4, 3, 3, 4, 3, 3, 3, 4, 4, 4, 4, 3, 3, 3, 4, 4, 4, 4, 3, 4, 3, 4, 4, 3, 3, 3, 4, 4, 3, 3, 3, 4, 3, 3, 4, 4, 3, 3, 3, 3, 3, 3, 4, 3, 4, 3, 4, 4, 4, 3, 4, 4, 3, 3, 3, 4, 3, 4, 4, 3, 3, 3, 4, 4, 3, 3, 3, 4, 3, 3, 3, 4, 3, 4, 4, 3, 3, 3, 4, 3, 3, 4, 3, 3, 3, 3, 4, 4, 3, 4, 4, 4, 3, 4, 3, 4, 4, 4, 4, 3, 3, 3, 3, 3, 4, 3, 3, 4, 4, 3, 4, 4, 3, 4, 4, 4, 4, 3, 4, 4, 4, 3, 3, 3, 3, 3, 3, 4, 3, 3, 4, 3, 3, 4, 3, 4, 4, 4, 3, 3, 4, 3, 4, 4, 4, 4, 4, 3, 3, 3, 4, 3, 3, 3, 3, 4, 4, 3, 4, 4, 4, 3, 4, 4, 4, 4, 4, 3, 4, 3, 4, 3, 3, 4, 4, 4, 4, 3, 3, 3, 4, 4, 4, 4, 4, 4, 4, 4, 3, 3, 4, 3, 3, 4, 4, 3, 4, 4, 4, 4, 4, 3, 4, 4, 4, 3, 3, 3, 3, 3, 4, 4, 3, 3, 4, 4, 3, 4, 3, 4, 3, 3, 3, 3, 3, 4, 4, 4, 4, 4, 4, 3, 3, 3, 3, 4, 4, 4, 4, 4, 3, 4, 4, 4, 4, 3, 4, 3, 3, 3, 4, 3, 4, 4, 3, 3, 4, 4, 4, 4, 4, 4, 4, 3, 3, 3, 3, 4, 3, 3, 3, 3, 4, 4, 3, 3, 4, 3, 4, 4, 4, 3, 4, 4, 3, 3, 3, 4, 3, 3, 4, 4, 3, 4, 3, 4, 4, 3, 3, 3, 3, 3, 3, 4, 4, 3, 3, 3, 3, 4, 3, 3, 4, 3, 4, 4, 4, 4, 3, 3, 4, 4, 3, 4, 3, 4, 4, 4, 4, 4, 3, 4, 3, 3, 4, 3, 4, 4, 4, 4, 3, 4, 4, 4, 4, 4, 4, 3, 3, 4, 4, 4, 3, 4, 3, 3, 3, 3, 3, 3, 3, 3, 3, 4, 3, 3, 3, 3, 3, 3, 3, 3, 3, 4, 4, 4, 4, 4, 4, 4, 3, 4, 3, 3, 4, 3, 3, 4, 3, 4, 3, 3, 3, 4, 3, 4, 4, 4, 4, 3, 3, 3, 4, 3, 4, 3, 4, 4, 4, 3, 4, 3, 4, 4, 4, 4, 3, 3, 3, 3, 3, 4, 3, 4, 4, 4, 3, 3, 3, 3, 3, 4, 4, 4, 4, 3, 3, 3, 4, 4, 4, 3, 3, 3, 3, 4, 4, 4, 4, 3, 3, 3, 4, 3, 3, 4, 3, 3, 3, 3, 3, 3, 4, 3, 4, 3, 3, 4, 3, 3, 4, 4, 3, 3, 3, 4, 3, 3, 4, 4, 4, 3, 3, 4, 3, 3, 3, 3, 4, 3, 4, 3, 4, 3, 3, 3, 3, 4, 3, 4, 4, 4, 3, 3, 3, 3, 4, 3, 3, 4, 3, 4, 4, 3, 3, 3, 4, 3, 3, 4, 4, 4, 4, 4, 3, 4, 4, 4, 4, 4, 4, 3, 4, 4, 3, 3, 3, 3, 4, 3, 4, 3, 4, 3, 4, 4, 4, 4, 4, 4, 4, 3, 3, 3, 4, 4, 3, 4, 3, 3, 4, 4, 4, 4, 3, 4, 4, 3, 3, 3, 4, 3, 3, 3, 3, 4, 4, 3, 3, 4, 4, 4, 3, 4, 3, 3, 4, 3, 4, 4, 3, 3, 4, 3, 4, 4, 3, 3, 3, 4, 3, 4, 3, 3, 4, 3, 4, 4, 4, 4, 3, 3, 4, 3, 4, 4, 3, 3, 3, 4, 3, 3, 3, 3, 3, 4, 3, 3, 4, 3, 3, 3, 4, 4, 4, 3, 3, 3, 4, 3, 3, 3, 3, 3, 4, 3, 3, 3, 3, 3, 3, 3, 4, 3, 3, 4, 3, 4, 3, 4, 4, 3, 3, 3, 3, 3, 4, 3, 4, 3, 4, 3, 3, 3, 4, 3, 4, 4, 3, 3, 3, 3, 3, 3, 3, 4, 3, 3, 3, 4, 3, 3, 4, 4, 4, 3, 3, 4, 3, 4, 4, 4, 3, 3, 3, 3, 3, 4, 3, 3, 4, 3, 3, 4, 3, 4, 3, 3, 3, 4, 3, 4, 3, 4, 4, 4, 3, 3, 4, 4, 4, 4, 3, 4, 4, 4, 4, 3, 3, 4, 4, 3, 3, 3, 4, 3, 3, 3, 3, 4, 4, 4, 3, 4, 3, 3, 4, 3, 4, 4, 3, 3, 3, 4, 3, 4, 3, 4, 4, 4, 4, 4, 4, 4, 3, 3, 4, 3, 4, 3]\n"
          ]
        }
      ],
      "source": [
        "predictions = []\n",
        "for i in range(len(X_test)):\n",
        "    x_sample = X_test.iloc[i]\n",
        "    x_1_perp = U1 @ (U1.T @ x_sample)\n",
        "    x_2_perp = U2 @ (U2.T @ x_sample)\n",
        "    distance_x1 = np.linalg.norm(x_sample - x_1_perp)\n",
        "    distance_x2 = np.linalg.norm(x_sample - x_2_perp)\n",
        "    prediction = classify_digit(distance_x1, distance_x2)\n",
        "    predictions.append(prediction)\n",
        "\n",
        "print(predictions)\n"
      ]
    },
    {
      "cell_type": "code",
      "execution_count": 19,
      "metadata": {
        "colab": {
          "base_uri": "https://localhost:8080/"
        },
        "id": "q4vV1eLVKpUK",
        "outputId": "ae906dc6-e886-4fb4-c88c-b95cb7d40416"
      },
      "outputs": [
        {
          "output_type": "stream",
          "name": "stdout",
          "text": [
            "Misclassification rate: 0.030267062314540058\n",
            "Accuracy: 0.96973293768546\n"
          ]
        }
      ],
      "source": [
        "misclassified_count = 0\n",
        "for i in range(len(X_test)):\n",
        "    if predictions[i] != y_test.iloc[i]:\n",
        "        misclassified_count += 1\n",
        "\n",
        "misclassification_rate = misclassified_count / len(X_test)\n",
        "print(f\"Misclassification rate: {misclassification_rate}\")\n",
        "print(f\"Accuracy: {1 - misclassification_rate}\")"
      ]
    },
    {
      "cell_type": "markdown",
      "source": [
        "# Other two digits\n",
        "\n",
        "1, 7 (simillar digits)"
      ],
      "metadata": {
        "id": "kWdXlEspXFgU"
      }
    },
    {
      "cell_type": "code",
      "source": [
        "X_filtered = X[(y == 1) | (y == 7)]\n",
        "y_filtered = y[(y == 1) | (y == 7)]\n",
        "\n",
        "X_filtered = X_filtered.reset_index(drop=True)\n",
        "y_filtered = y_filtered.reset_index(drop=True)\n",
        "print(\"Shape of X_filtered:\", X_filtered.shape)\n",
        "print(\"Shape of y_filtered:\", y_filtered.shape)\n",
        "\n",
        "X_train, X_test, y_train, y_test = train_test_split(X_filtered, y_filtered, test_size=0.2, random_state=42)\n",
        "\n",
        "X1_train = X_train[y_train == 1].T\n",
        "X2_train = X_train[y_train == 7].T\n",
        "\n",
        "U1, S1, Vh1 = np.linalg.svd(X1_train, full_matrices=False)\n",
        "U2, S2, Vh2 = np.linalg.svd(X2_train, full_matrices=False)\n",
        "\n",
        "predictions = []\n",
        "for i in range(len(X_test)):\n",
        "    x_sample = X_test.iloc[i]\n",
        "    x_1_perp = U1 @ (U1.T @ x_sample)\n",
        "    x_2_perp = U2 @ (U2.T @ x_sample)\n",
        "\n",
        "    distance_x1 = np.linalg.norm(x_sample - x_1_perp)\n",
        "    distance_x2 = np.linalg.norm(x_sample - x_2_perp)\n",
        "\n",
        "    if distance_x1 < distance_x2:\n",
        "        prediction = 1\n",
        "    else:\n",
        "        prediction = 7\n",
        "\n",
        "    predictions.append(prediction)\n",
        "\n",
        "print(predictions)\n",
        "\n",
        "# Misclassification\n",
        "misclassified_count = 0\n",
        "for i in range(len(X_test)):\n",
        "    if predictions[i] != y_test.iloc[i]:\n",
        "        misclassified_count += 1\n",
        "\n",
        "misclassification_rate = misclassified_count / len(X_test)\n",
        "print(f\"Misclassification rate: {misclassification_rate}\")\n",
        "print(f\"Accuracy: {1 - misclassification_rate}\")"
      ],
      "metadata": {
        "colab": {
          "base_uri": "https://localhost:8080/"
        },
        "id": "PwXtSnEUXLNY",
        "outputId": "590982ed-dfcd-4636-803d-d712e39436fb"
      },
      "execution_count": 31,
      "outputs": [
        {
          "output_type": "stream",
          "name": "stdout",
          "text": [
            "Shape of X_filtered: (9085, 784)\n",
            "Shape of y_filtered: (9085,)\n",
            "[1, 7, 1, 1, 7, 1, 7, 1, 1, 1, 7, 1, 1, 1, 1, 1, 7, 7, 1, 7, 1, 1, 1, 1, 1, 1, 1, 1, 7, 1, 1, 1, 7, 1, 1, 1, 7, 7, 1, 1, 7, 1, 1, 1, 1, 1, 7, 7, 1, 1, 7, 1, 1, 1, 1, 1, 7, 1, 1, 1, 1, 1, 1, 1, 1, 1, 1, 7, 1, 7, 1, 1, 7, 1, 1, 1, 1, 1, 1, 1, 7, 1, 7, 1, 1, 1, 1, 1, 1, 1, 1, 1, 1, 1, 7, 7, 1, 1, 1, 7, 1, 1, 1, 1, 1, 1, 1, 7, 1, 1, 1, 1, 7, 1, 1, 1, 1, 1, 1, 7, 7, 7, 7, 7, 1, 7, 1, 1, 1, 1, 7, 1, 1, 7, 7, 1, 1, 1, 1, 1, 1, 1, 1, 7, 1, 1, 1, 1, 1, 1, 1, 7, 1, 1, 1, 1, 7, 1, 1, 1, 7, 7, 1, 1, 1, 7, 1, 1, 1, 1, 1, 1, 1, 1, 7, 7, 1, 7, 1, 1, 7, 7, 1, 1, 1, 1, 1, 1, 1, 1, 1, 1, 1, 1, 1, 1, 1, 7, 1, 7, 7, 1, 1, 1, 1, 7, 7, 1, 1, 1, 7, 7, 1, 1, 1, 1, 7, 1, 1, 1, 1, 7, 7, 7, 7, 1, 1, 1, 7, 1, 7, 1, 1, 1, 1, 7, 7, 1, 7, 1, 1, 1, 1, 7, 1, 1, 1, 1, 1, 7, 1, 1, 7, 7, 7, 1, 1, 1, 1, 7, 7, 1, 1, 1, 1, 1, 7, 7, 7, 1, 1, 7, 7, 7, 1, 1, 1, 7, 1, 1, 7, 1, 7, 1, 1, 1, 1, 1, 7, 1, 1, 1, 7, 1, 1, 1, 1, 1, 7, 1, 1, 7, 1, 1, 7, 1, 7, 1, 1, 1, 1, 1, 1, 1, 1, 1, 7, 7, 1, 7, 1, 1, 1, 1, 1, 7, 1, 1, 1, 1, 7, 1, 1, 1, 1, 1, 1, 1, 1, 7, 1, 1, 7, 7, 7, 7, 1, 1, 1, 1, 1, 1, 1, 7, 1, 1, 1, 7, 1, 7, 1, 1, 1, 1, 1, 1, 7, 1, 1, 1, 1, 1, 7, 7, 1, 1, 1, 1, 1, 7, 1, 1, 1, 1, 1, 1, 1, 7, 1, 1, 1, 1, 1, 7, 7, 1, 1, 7, 1, 1, 1, 1, 1, 1, 1, 7, 1, 1, 1, 1, 1, 1, 1, 1, 1, 7, 1, 1, 1, 1, 1, 1, 1, 7, 1, 7, 1, 1, 1, 1, 1, 7, 7, 1, 1, 7, 1, 1, 7, 1, 1, 7, 1, 1, 7, 1, 1, 1, 1, 7, 1, 1, 1, 1, 7, 1, 1, 1, 1, 7, 1, 1, 1, 1, 7, 1, 1, 1, 1, 7, 1, 7, 7, 7, 1, 1, 7, 7, 1, 7, 1, 1, 1, 7, 1, 1, 1, 7, 7, 1, 1, 7, 7, 1, 1, 1, 7, 1, 1, 1, 7, 7, 1, 7, 1, 7, 1, 1, 1, 1, 1, 7, 1, 1, 1, 1, 7, 1, 1, 1, 1, 1, 1, 1, 1, 1, 7, 1, 1, 1, 1, 7, 1, 7, 7, 1, 1, 7, 1, 1, 1, 7, 7, 1, 1, 1, 7, 1, 7, 1, 7, 1, 1, 1, 1, 1, 7, 1, 7, 1, 7, 1, 1, 1, 1, 7, 1, 1, 1, 7, 7, 1, 1, 1, 1, 1, 1, 1, 1, 1, 1, 1, 1, 1, 1, 1, 7, 1, 1, 1, 1, 7, 7, 1, 7, 1, 7, 7, 7, 1, 7, 1, 7, 1, 1, 7, 1, 1, 1, 1, 1, 7, 1, 1, 1, 1, 1, 7, 1, 1, 1, 7, 7, 1, 1, 1, 1, 1, 7, 1, 1, 1, 7, 1, 7, 7, 1, 1, 1, 7, 1, 7, 1, 1, 1, 1, 1, 1, 1, 1, 7, 1, 1, 1, 7, 7, 1, 1, 7, 7, 7, 1, 1, 7, 7, 7, 1, 1, 7, 7, 1, 1, 7, 1, 7, 1, 1, 1, 7, 1, 1, 1, 7, 1, 1, 7, 1, 7, 7, 1, 1, 1, 7, 1, 1, 1, 1, 1, 7, 1, 1, 1, 7, 1, 1, 7, 7, 1, 1, 1, 7, 1, 1, 1, 1, 1, 7, 1, 1, 1, 7, 1, 1, 1, 1, 1, 1, 1, 1, 1, 1, 1, 1, 1, 1, 1, 1, 1, 1, 1, 1, 7, 7, 1, 1, 1, 1, 7, 1, 1, 1, 7, 7, 7, 1, 7, 1, 1, 1, 7, 1, 1, 7, 1, 1, 7, 7, 1, 1, 1, 1, 7, 7, 1, 1, 1, 1, 1, 7, 1, 1, 1, 7, 1, 7, 1, 1, 1, 1, 1, 7, 1, 7, 1, 1, 1, 7, 1, 1, 1, 1, 1, 7, 1, 1, 7, 7, 7, 1, 1, 1, 1, 7, 7, 1, 7, 1, 1, 1, 1, 1, 7, 1, 7, 1, 1, 1, 1, 1, 7, 1, 1, 7, 7, 1, 1, 1, 1, 7, 7, 7, 1, 1, 1, 7, 1, 1, 1, 1, 1, 1, 1, 7, 1, 7, 1, 1, 7, 1, 1, 1, 1, 1, 1, 1, 1, 1, 1, 7, 1, 1, 1, 1, 7, 1, 1, 1, 7, 1, 7, 1, 1, 1, 1, 7, 1, 1, 1, 1, 1, 1, 1, 1, 7, 1, 1, 1, 1, 1, 1, 1, 7, 1, 1, 1, 7, 7, 7, 1, 1, 7, 1, 1, 1, 7, 1, 7, 1, 1, 1, 1, 7, 1, 7, 1, 1, 1, 1, 1, 1, 1, 7, 1, 1, 1, 7, 7, 7, 1, 7, 1, 7, 7, 1, 1, 1, 1, 1, 1, 1, 7, 1, 1, 1, 1, 1, 1, 1, 1, 1, 1, 1, 1, 1, 1, 1, 1, 1, 1, 7, 1, 1, 1, 1, 1, 1, 1, 1, 7, 1, 1, 1, 1, 1, 1, 1, 1, 1, 1, 7, 1, 1, 7, 1, 7, 1, 1, 7, 1, 1, 1, 7, 1, 1, 1, 7, 1, 1, 1, 1, 1, 7, 7, 1, 1, 1, 1, 1, 1, 1, 7, 1, 1, 1, 1, 1, 7, 7, 1, 1, 1, 1, 1, 1, 1, 1, 7, 1, 1, 1, 1, 1, 1, 1, 7, 1, 1, 1, 1, 1, 7, 1, 1, 1, 7, 7, 7, 1, 1, 7, 1, 1, 7, 7, 1, 1, 7, 7, 7, 1, 7, 1, 7, 1, 7, 7, 1, 7, 7, 7, 1, 1, 1, 1, 1, 1, 1, 1, 1, 1, 1, 1, 1, 1, 7, 7, 7, 1, 7, 1, 1, 1, 1, 1, 1, 1, 1, 7, 7, 1, 1, 1, 1, 1, 1, 1, 1, 1, 1, 1, 1, 1, 7, 1, 1, 1, 7, 7, 1, 1, 1, 1, 1, 7, 1, 1, 1, 1, 7, 1, 1, 1, 1, 1, 1, 1, 1, 1, 7, 7, 7, 1, 1, 1, 7, 7, 7, 1, 1, 7, 7, 1, 1, 7, 1, 1, 1, 1, 1, 7, 1, 1, 1, 1, 1, 1, 1, 1, 1, 7, 1, 7, 1, 1, 1, 7, 1, 1, 1, 1, 1, 1, 1, 1, 1, 1, 1, 1, 1, 1, 1, 7, 1, 7, 1, 1, 7, 1, 1, 1, 1, 7, 7, 1, 7, 1, 7, 7, 7, 1, 7, 1, 1, 1, 1, 1, 7, 1, 7, 7, 1, 1, 1, 1, 1, 1, 7, 1, 1, 1, 1, 1, 1, 7, 1, 7, 7, 7, 7, 1, 7, 7, 1, 1, 7, 7, 1, 1, 1, 1, 1, 1, 1, 1, 1, 7, 7, 7, 1, 1, 1, 7, 7, 7, 1, 1, 7, 1, 1, 1, 7, 1, 1, 1, 7, 1, 1, 1, 1, 1, 1, 1, 1, 1, 1, 1, 1, 1, 1, 1, 1, 7, 1, 7, 1, 7, 1, 1, 1, 1, 7, 1, 1, 1, 1, 1, 1, 7, 1, 1, 1, 1, 1, 1, 1, 1, 1, 1, 1, 1, 1, 7, 1, 1, 1, 1, 7, 1, 1, 1, 1, 1, 1, 1, 1, 1, 1, 1, 7, 1, 7, 1, 1, 1, 1, 1, 1, 1, 7, 1, 7, 1, 7, 1, 7, 1, 1, 7, 1, 7, 1, 1, 1, 1, 1, 7, 1, 1, 7, 1, 1, 1, 1, 1, 1, 1, 1, 1, 1, 1, 1, 1, 1, 7, 1, 7, 1, 1, 1, 7, 1, 1, 1, 1, 7, 1, 7, 1, 1, 1, 7, 7, 7, 1, 1, 1, 1, 1, 7, 1, 1, 1, 1, 7, 1, 1, 7, 1, 1, 1, 1, 1, 7, 1, 7, 7, 7, 7, 1, 1, 7, 1, 7, 7, 1, 7, 1, 7, 1, 7, 1, 7, 1, 1, 1, 7, 1, 1, 1, 7, 1, 1, 7, 1, 7, 1, 7, 7, 1, 1, 1, 7, 7, 1, 1, 1, 1, 1, 1, 1, 1, 1, 7, 7, 1, 1, 1, 1, 1, 1, 1, 7, 7, 1, 1, 7, 1, 1, 1, 1, 1, 7, 1, 1, 1, 7, 7, 1, 1, 1, 1, 7, 1, 1, 1, 1, 1, 1, 1, 7, 7, 1, 1, 7, 1, 1, 1, 1, 1, 1, 1, 1, 1, 1, 1, 1, 7, 1, 1, 1, 1, 1, 1, 1, 1, 1, 1, 1, 1, 7, 7, 7, 1, 1, 1, 1, 1, 1, 1, 1, 1, 1, 1, 1, 1, 1, 7, 1, 1, 7, 1, 1, 1, 1, 7, 1, 1, 1, 1, 1, 1, 1, 1, 1, 1, 1, 1, 7, 1, 1, 1, 1, 1, 1, 1, 1, 7, 1, 7, 7, 1, 7, 1, 1, 1, 7, 1, 1, 7, 1, 7, 1, 7, 7, 1, 1, 1, 1, 1, 1, 1, 7, 7, 1, 1, 1, 1, 1, 7, 1, 1, 1, 7, 1, 1, 1, 7, 1, 7, 7, 1, 1, 1, 1, 7, 1, 7, 1, 1, 1, 7, 1, 7, 1, 7, 1, 1, 1, 1, 1, 1, 7, 1, 1, 7, 1, 1, 1, 1, 7, 1, 1, 1, 1, 1, 1, 1, 7, 1, 1, 7, 1, 7, 1, 1, 1, 1, 1, 1, 7, 1, 1, 7, 1, 1, 1, 1, 1, 1, 1, 1, 1, 1, 1, 1, 7, 7, 1, 7, 1, 1, 1, 7, 1, 1, 1, 1, 1, 1, 1, 1, 7, 1, 7, 1, 7, 1, 1, 1, 1, 7, 1, 7, 1, 1, 7, 1, 1, 1, 1, 1, 1, 1, 1, 7, 1, 1, 7, 1, 1, 1, 1, 1, 1, 7, 1, 1, 1, 7, 7, 1, 7, 1, 1, 1, 1, 1, 7, 1, 1, 1, 1, 7, 7, 1, 1, 7, 7, 1, 1, 7, 1, 1, 1, 1, 1, 1, 1, 7, 1, 7, 7, 1, 1, 1, 1, 1, 1, 7, 1, 1, 1, 1, 7, 7, 1, 7, 1, 1, 7, 1, 7, 1, 7, 7, 7, 7]\n",
            "Misclassification rate: 0.2449091909741332\n",
            "Accuracy: 0.7550908090258668\n"
          ]
        }
      ]
    },
    {
      "cell_type": "markdown",
      "source": [
        "lower accuracy because of simillarity of 1 and 7"
      ],
      "metadata": {
        "id": "MGxkfi2vX0JP"
      }
    },
    {
      "cell_type": "markdown",
      "metadata": {
        "id": "VXILP8PuMrbk"
      },
      "source": [
        "## Do the whole process for three digits"
      ]
    },
    {
      "cell_type": "code",
      "execution_count": 23,
      "metadata": {
        "id": "1vk7nUXTNDwR"
      },
      "outputs": [],
      "source": [
        "def predict(X_train, y_train, x):\n",
        "  min_d = np.inf\n",
        "  classed = -1\n",
        "  for i in range(3):\n",
        "      X = X_train[y_train == i].T\n",
        "      U, _, _ = np.linalg.svd(X, full_matrices=False)\n",
        "      x_perp = U @ (U.T @ x)\n",
        "      distance_x = np.linalg.norm(x - x_perp)\n",
        "      if distance_x < min_d:\n",
        "          classed = i\n",
        "          min_d = distance_x\n",
        "  return classed"
      ]
    },
    {
      "cell_type": "code",
      "execution_count": 24,
      "metadata": {
        "colab": {
          "base_uri": "https://localhost:8080/"
        },
        "id": "xhNXg63XLO8y",
        "outputId": "3d636742-132f-450e-90f3-0875c061a805"
      },
      "outputs": [
        {
          "output_type": "stream",
          "name": "stdout",
          "text": [
            "Shape of X_filtered: (12993, 784)\n",
            "Shape of y_filtered: (12993,)\n",
            "Shape of X_filtered: (12993, 784)\n",
            "Shape of y_filtered: (12993,)\n",
            "Predicted digit: 1\n",
            "True digit: 1\n"
          ]
        }
      ],
      "source": [
        "# Assuming X is already defined as a NumPy array (if not, convert it using X = np.array(X))\n",
        "X_filtered = X[(y == 0) | (y == 1) | (y == 2)]\n",
        "y_filtered = y[(y == 0) | (y == 1) | (y == 2)]\n",
        "\n",
        "X_filtered = X_filtered.reset_index(drop=True)\n",
        "y_filtered = y_filtered.reset_index(drop=True)\n",
        "print(\"Shape of X_filtered:\", X_filtered.shape)\n",
        "print(\"Shape of y_filtered:\", y_filtered.shape)\n",
        "\n",
        "X_train, X_test, y_train, y_test = train_test_split(X_filtered, y_filtered, test_size=0.2, random_state=42)\n",
        "\n",
        "# Do the process for 1 sample\n",
        "x_sample = X_train.iloc[i]\n",
        "prediction = predict(X_train, y_train, X_test.iloc[1])\n",
        "\n",
        "print(f\"Predicted digit: {prediction}\")\n",
        "print(f\"True digit: {y_test.iloc[1]}\")"
      ]
    },
    {
      "cell_type": "code",
      "source": [
        "def classify_digit(distance_x1, distance_x2, distance_x3):\n",
        "    if distance_x1 < distance_x2 and distance_x1 < distance_x3:\n",
        "        return 0\n",
        "    elif distance_x2 < distance_x1 and distance_x2 < distance_x3:\n",
        "        return 1\n",
        "    else:\n",
        "        return 2"
      ],
      "metadata": {
        "id": "gXVKdBK_WE6Z"
      },
      "execution_count": 27,
      "outputs": []
    },
    {
      "cell_type": "code",
      "execution_count": 28,
      "metadata": {
        "colab": {
          "base_uri": "https://localhost:8080/"
        },
        "id": "VEOg_FsLLWkm",
        "outputId": "aa14d624-86fb-401a-f677-59cf87c93e04"
      },
      "outputs": [
        {
          "output_type": "stream",
          "name": "stdout",
          "text": [
            "[0, 1, 1, 1, 0, 1, 0, 1, 0, 1, 1, 1, 0, 0, 1, 1, 0, 1, 1, 1, 0, 2, 0, 0, 1, 1, 2, 2, 0, 1, 2, 2, 1, 0, 0, 0, 0, 1, 0, 1, 1, 2, 0, 1, 0, 2, 2, 2, 0, 0, 0, 1, 1, 2, 2, 2, 2, 2, 2, 1, 1, 2, 0, 1, 2, 2, 1, 2, 2, 2, 2, 1, 0, 2, 2, 0, 0, 1, 1, 2, 1, 2, 0, 0, 0, 2, 2, 1, 0, 2, 1, 0, 2, 0, 1, 2, 2, 2, 1, 0, 1, 1, 2, 2, 2, 0, 2, 2, 1, 0, 2, 1, 0, 1, 0, 1, 0, 2, 0, 1, 2, 0, 1, 1, 1, 2, 0, 2, 1, 1, 0, 1, 0, 1, 0, 0, 1, 0, 2, 2, 0, 0, 0, 0, 1, 2, 1, 1, 1, 0, 2, 1, 0, 1, 0, 1, 2, 0, 2, 1, 2, 0, 1, 0, 1, 0, 0, 0, 0, 1, 1, 0, 1, 0, 0, 1, 1, 1, 1, 1, 1, 1, 0, 0, 2, 0, 0, 0, 1, 2, 2, 2, 1, 2, 1, 1, 2, 2, 1, 1, 1, 1, 0, 0, 2, 2, 1, 0, 0, 2, 2, 1, 2, 1, 2, 0, 2, 1, 2, 0, 2, 2, 0, 1, 1, 0, 0, 2, 0, 2, 0, 1, 1, 0, 1, 0, 0, 1, 2, 2, 0, 2, 1, 1, 1, 2, 0, 0, 0, 1, 2, 2, 2, 1, 0, 0, 1, 2, 0, 2, 0, 1, 1, 2, 0, 1, 1, 1, 1, 2, 0, 0, 2, 0, 0, 0, 1, 0, 2, 2, 1, 0, 0, 2, 1, 2, 1, 2, 1, 0, 2, 1, 1, 1, 2, 1, 2, 1, 1, 2, 1, 2, 0, 2, 1, 2, 2, 0, 1, 1, 0, 2, 1, 1, 0, 1, 1, 1, 2, 1, 0, 0, 0, 1, 2, 1, 1, 0, 0, 0, 2, 0, 2, 0, 1, 1, 2, 2, 1, 1, 1, 2, 2, 0, 0, 1, 2, 0, 0, 1, 2, 1, 1, 0, 0, 0, 1, 0, 2, 0, 1, 1, 2, 2, 0, 1, 2, 1, 0, 0, 0, 2, 0, 1, 2, 2, 0, 1, 1, 0, 1, 1, 2, 2, 2, 0, 2, 1, 2, 1, 0, 2, 2, 1, 2, 0, 2, 1, 0, 2, 0, 2, 0, 1, 2, 1, 1, 1, 1, 0, 0, 1, 2, 1, 0, 1, 0, 0, 1, 1, 0, 0, 1, 2, 1, 1, 0, 0, 0, 0, 1, 2, 0, 1, 2, 2, 1, 1, 1, 2, 1, 1, 0, 2, 1, 1, 1, 0, 0, 1, 0, 1, 0, 1, 2, 1, 2, 2, 0, 1, 1, 1, 0, 2, 0, 2, 1, 2, 1, 0, 2, 1, 0, 2, 1, 2, 0, 2, 1, 1, 1, 0, 0, 0, 2, 2, 1, 1, 1, 2, 0, 1, 0, 1, 1, 0, 2, 1, 0, 2, 0, 2, 1, 0, 1, 1, 0, 0, 0, 1, 1, 2, 1, 2, 0, 0, 1, 1, 2, 0, 1, 0, 0, 0, 1, 0, 2, 1, 2, 2, 0, 0, 1, 0, 1, 0, 1, 1, 0, 1, 2, 1, 1, 1, 1, 0, 1, 0, 0, 1, 2, 2, 2, 1, 1, 1, 1, 1, 1, 1, 2, 2, 0, 2, 0, 0, 1, 0, 0, 1, 1, 1, 0, 1, 1, 1, 0, 1, 0, 2, 1, 0, 2, 2, 1, 1, 1, 2, 2, 1, 2, 2, 1, 2, 1, 1, 1, 0, 1, 1, 1, 1, 2, 0, 2, 1, 0, 0, 0, 1, 0, 0, 0, 2, 2, 0, 2, 1, 1, 2, 1, 0, 2, 1, 0, 1, 1, 2, 1, 1, 2, 0, 2, 2, 1, 1, 2, 1, 1, 1, 0, 2, 0, 1, 2, 2, 2, 0, 1, 2, 2, 1, 1, 1, 0, 2, 0, 0, 0, 1, 1, 0, 0, 1, 1, 2, 1, 1, 1, 0, 2, 0, 1, 2, 0, 1, 2, 1, 2, 0, 1, 1, 0, 0, 0, 1, 0, 0, 1, 2, 1, 1, 1, 2, 0, 2, 0, 0, 2, 1, 0, 1, 1, 1, 0, 1, 2, 1, 1, 1, 1, 0, 1, 0, 1, 0, 2, 0, 0, 1, 1, 0, 2, 1, 2, 0, 2, 1, 1, 2, 1, 1, 0, 2, 1, 1, 2, 0, 0, 0, 0, 0, 2, 2, 2, 1, 0, 0, 2, 1, 1, 0, 1, 1, 1, 1, 1, 1, 2, 2, 2, 1, 0, 0, 2, 2, 2, 1, 0, 2, 1, 2, 0, 2, 1, 2, 1, 1, 0, 1, 2, 1, 1, 2, 2, 1, 1, 0, 2, 0, 2, 2, 2, 0, 0, 0, 2, 2, 1, 1, 0, 2, 2, 2, 1, 1, 2, 0, 1, 1, 2, 1, 0, 1, 0, 2, 1, 0, 0, 2, 1, 2, 1, 2, 0, 1, 1, 0, 2, 1, 1, 0, 0, 2, 2, 1, 2, 0, 0, 2, 0, 1, 2, 1, 1, 2, 0, 1, 1, 1, 2, 2, 0, 2, 1, 0, 0, 0, 0, 1, 1, 0, 0, 0, 1, 1, 1, 0, 0, 2, 2, 2, 1, 2, 1, 1, 0, 0, 2, 0, 2, 0, 1, 2, 1, 1, 0, 1, 2, 1, 1, 1, 0, 0, 2, 2, 0, 1, 2, 2, 1, 1, 0, 0, 2, 0, 0, 2, 0, 1, 1, 0, 1, 2, 1, 1, 1, 1, 2, 1, 0, 1, 2, 0, 1, 1, 0, 0, 1, 1, 0, 1, 2, 1, 1, 2, 2, 0, 2, 0, 0, 2, 2, 0, 2, 1, 0, 0, 1, 1, 1, 0, 0, 0, 2, 1, 0, 2, 1, 1, 2, 2, 1, 1, 2, 1, 0, 2, 0, 1, 1, 1, 1, 0, 2, 1, 0, 0, 0, 2, 2, 0, 1, 1, 2, 2, 1, 0, 1, 0, 2, 0, 2, 0, 0, 0, 2, 2, 0, 0, 2, 1, 0, 1, 1, 1, 0, 0, 1, 2, 0, 0, 1, 1, 1, 2, 0, 2, 1, 0, 0, 2, 0, 0, 1, 2, 0, 1, 1, 1, 1, 2, 1, 2, 1, 1, 1, 0, 0, 1, 1, 2, 0, 2, 1, 0, 1, 0, 0, 1, 1, 1, 2, 1, 2, 2, 2, 1, 0, 0, 0, 2, 1, 0, 2, 1, 2, 1, 2, 0, 0, 2, 1, 1, 0, 2, 1, 1, 1, 2, 1, 2, 1, 2, 0, 1, 1, 0, 0, 2, 0, 2, 2, 0, 0, 1, 1, 2, 2, 1, 0, 0, 2, 1, 1, 0, 1, 2, 1, 0, 0, 0, 2, 1, 1, 1, 2, 1, 0, 2, 1, 0, 1, 0, 1, 0, 0, 0, 0, 1, 0, 2, 0, 2, 1, 0, 0, 2, 1, 1, 0, 2, 2, 0, 2, 2, 2, 1, 1, 2, 0, 0, 1, 2, 1, 2, 1, 0, 0, 0, 0, 0, 0, 1, 0, 1, 1, 1, 0, 1, 2, 0, 2, 2, 2, 1, 2, 0, 0, 2, 1, 2, 0, 1, 0, 0, 1, 2, 2, 0, 0, 0, 0, 1, 0, 1, 0, 1, 2, 2, 1, 1, 0, 0, 1, 0, 0, 1, 1, 2, 2, 1, 1, 1, 1, 1, 2, 0, 2, 1, 1, 1, 0, 0, 0, 0, 1, 1, 2, 2, 2, 0, 1, 2, 0, 1, 1, 0, 1, 0, 0, 2, 0, 1, 1, 1, 0, 0, 1, 2, 0, 2, 0, 1, 0, 1, 2, 1, 1, 0, 0, 1, 0, 0, 1, 2, 1, 0, 1, 0, 1, 2, 1, 0, 1, 1, 2, 1, 0, 1, 1, 2, 1, 2, 0, 0, 2, 0, 0, 0, 0, 1, 2, 2, 0, 0, 1, 1, 1, 0, 2, 2, 2, 1, 1, 2, 2, 2, 1, 1, 1, 1, 2, 2, 2, 1, 2, 0, 2, 1, 1, 1, 2, 1, 0, 0, 1, 2, 0, 1, 2, 1, 1, 1, 0, 1, 0, 2, 1, 1, 0, 0, 0, 1, 2, 1, 0, 1, 0, 2, 1, 1, 1, 0, 0, 2, 1, 1, 1, 2, 2, 0, 2, 2, 0, 2, 0, 0, 2, 2, 1, 0, 0, 1, 2, 0, 0, 1, 0, 0, 0, 1, 0, 1, 0, 1, 0, 2, 2, 2, 1, 2, 1, 0, 0, 1, 1, 1, 1, 2, 1, 2, 2, 2, 0, 1, 2, 1, 1, 0, 2, 1, 1, 0, 1, 2, 1, 0, 1, 0, 1, 0, 2, 0, 1, 1, 2, 0, 0, 0, 1, 1, 0, 0, 1, 0, 0, 2, 1, 2, 0, 0, 2, 1, 2, 0, 2, 1, 2, 1, 2, 1, 2, 1, 1, 1, 1, 0, 1, 2, 2, 0, 0, 2, 2, 1, 0, 0, 1, 2, 0, 1, 1, 0, 0, 0, 0, 2, 1, 1, 0, 2, 2, 0, 2, 0, 0, 0, 1, 0, 1, 1, 1, 1, 0, 0, 2, 1, 1, 1, 0, 2, 1, 1, 1, 1, 1, 0, 0, 1, 0, 0, 0, 0, 0, 2, 0, 1, 1, 0, 2, 0, 0, 2, 0, 2, 2, 2, 1, 1, 0, 0, 1, 0, 1, 0, 2, 1, 2, 2, 1, 0, 2, 1, 1, 0, 1, 2, 0, 0, 1, 1, 2, 1, 2, 0, 0, 0, 2, 0, 1, 0, 1, 1, 2, 0, 0, 0, 2, 0, 2, 0, 2, 2, 0, 2, 2, 1, 0, 2, 0, 2, 1, 1, 1, 1, 1, 1, 0, 2, 0, 2, 1, 1, 1, 2, 0, 0, 0, 1, 1, 0, 1, 2, 2, 1, 0, 2, 0, 0, 0, 0, 2, 1, 2, 0, 2, 0, 0, 0, 1, 1, 1, 0, 2, 2, 1, 0, 2, 0, 1, 2, 0, 2, 2, 1, 0, 2, 0, 1, 0, 1, 0, 1, 1, 1, 1, 2, 2, 1, 2, 2, 1, 2, 1, 0, 1, 0, 0, 0, 1, 1, 2, 1, 1, 0, 1, 1, 0, 0, 0, 1, 0, 0, 0, 1, 2, 1, 0, 2, 1, 1, 1, 0, 2, 2, 2, 1, 0, 2, 2, 1, 2, 0, 1, 1, 0, 1, 2, 1, 2, 0, 0, 1, 0, 1, 0, 1, 1, 1, 2, 0, 1, 0, 2, 0, 1, 0, 1, 0, 1, 0, 0, 1, 1, 2, 2, 1, 0, 2, 1, 0, 1, 2, 2, 0, 0, 1, 1, 1, 2, 1, 2, 2, 2, 2, 0, 1, 0, 0, 1, 0, 1, 1, 1, 0, 1, 1, 1, 0, 0, 1, 0, 1, 1, 0, 2, 1, 2, 0, 0, 1, 0, 0, 1, 2, 2, 1, 0, 1, 2, 1, 0, 1, 1, 2, 0, 2, 0, 2, 2, 1, 0, 0, 0, 1, 1, 2, 0, 2, 2, 0, 1, 0, 0, 1, 1, 1, 2, 0, 0, 0, 0, 1, 0, 1, 2, 1, 0, 2, 2, 2, 2, 0, 2, 0, 1, 2, 2, 1, 0, 2, 1, 1, 1, 1, 1, 2, 0, 1, 2, 1, 1, 0, 2, 1, 0, 2, 1, 0, 2, 1, 1, 0, 1, 0, 2, 1, 2, 2, 2, 2, 0, 0, 1, 1, 0, 2, 0, 0, 0, 2, 1, 1, 1, 1, 1, 0, 2, 0, 0, 2, 2, 0, 1, 0, 2, 0, 2, 2, 1, 2, 2, 2, 1, 1, 0, 1, 2, 0, 0, 0, 1, 1, 1, 2, 0, 1, 1, 0, 2, 1, 0, 2, 1, 2, 1, 2, 1, 2, 0, 2, 1, 0, 0, 1, 0, 2, 2, 1, 0, 0, 1, 1, 0, 1, 1, 1, 0, 0, 2, 1, 0, 0, 0, 2, 2, 0, 0, 1, 2, 2, 0, 1, 0, 2, 1, 1, 0, 0, 2, 1, 1, 1, 0, 1, 1, 1, 1, 0, 1, 0, 1, 1, 1, 1, 2, 0, 1, 2, 2, 2, 1, 2, 0, 0, 0, 0, 1, 1, 2, 1, 2, 2, 1, 2, 1, 0, 1, 1, 1, 1, 0, 2, 0, 0, 1, 2, 1, 0, 0, 1, 1, 0, 1, 2, 2, 2, 0, 2, 0, 0, 2, 1, 1, 1, 1, 2, 1, 0, 1, 2, 2, 1, 2, 2, 0, 1, 1, 1, 1, 1, 2, 0, 1, 2, 2, 2, 2, 2, 1, 1, 0, 1, 0, 2, 1, 0, 0, 0, 1, 2, 1, 0, 1, 0, 1, 0, 1, 1, 0, 0, 1, 2, 2, 1, 2, 2, 0, 0, 2, 0, 2, 1, 2, 0, 0, 1, 0, 0, 2, 1, 1, 0, 1, 2, 0, 1, 1, 2, 0, 0, 2, 1, 1, 0, 1, 0, 0, 0, 0, 2, 0, 0, 1, 1, 0, 0, 2, 2, 0, 1, 2, 2, 1, 1, 0, 2, 0, 0, 0, 1, 2, 0, 1, 0, 2, 0, 2, 1, 0, 0, 1, 1, 2, 1, 1, 1, 1, 2, 1, 0, 2, 0, 0, 1, 0, 0, 2, 2, 2, 1, 0, 1, 1, 0, 1, 1, 1, 2, 0, 2, 1, 0, 0, 1, 1, 0, 1, 2, 1, 2, 1, 1, 0, 2, 2, 1, 1, 1, 1, 2, 1, 0, 0, 2, 1, 0, 1, 2, 1, 1, 1, 2, 1, 0, 2, 2, 0, 1, 1, 0, 0, 0, 1, 1, 1, 0, 1, 1, 0, 1, 2, 1, 1, 0, 2, 0, 2, 1, 0, 0, 0, 0, 0, 1, 0, 0, 0, 1, 0, 2, 1, 1, 1, 0, 2, 2, 2, 1, 2, 2, 0, 1, 1, 1, 0, 1, 2, 2, 0, 1, 0, 0, 0, 1, 1, 0, 2, 2, 1, 0, 0, 2, 2, 1, 0, 0, 0, 2, 1, 2, 1, 1, 1, 1, 0, 1, 1, 2, 1, 1, 2, 2, 2, 0, 1, 2, 2, 0, 1, 1, 0, 1, 2, 0, 1, 1, 1, 2, 2, 1, 1, 0, 1, 0, 2, 1, 0, 0, 1, 1, 1, 2, 1, 1, 1, 2, 1, 2, 1, 0, 2, 0, 1, 1, 0, 2, 1, 0, 0, 2, 2, 2, 1, 1, 1, 0, 2, 0, 0, 0, 0, 1, 0, 0, 1, 1, 1, 0, 2, 2, 2, 2, 2, 0, 0, 1, 0, 1, 0, 2, 1, 2, 2, 2, 0, 1, 2, 0, 2, 1, 0, 0, 1, 1, 1, 1, 1, 2, 1, 0, 0, 2, 1, 2, 0, 1, 2, 2, 0, 2, 1, 1, 2, 2, 1, 1, 1, 0, 1, 2, 2, 1, 1, 1, 1, 2, 0, 0, 2, 0, 0, 0, 0, 0, 0, 1, 1, 0, 2, 0, 1, 2, 2, 0, 0, 1, 0, 0, 1, 1, 2, 2, 0, 0, 0, 2, 2, 2, 2, 2, 1, 1, 0, 0, 2, 0, 1, 1, 1, 0, 0, 1, 1, 0, 1, 1, 1, 2, 1, 0, 1, 0, 2, 0, 1, 0, 0, 2, 1, 2, 2, 1, 1, 2, 0, 0, 1, 0, 2, 1, 2, 1, 2, 0, 1, 2, 0, 1, 0, 1, 1, 0, 0, 2, 0, 2, 1, 2, 2, 2, 2, 1, 1, 1, 0, 1, 2, 2, 1, 1, 2, 1, 1, 1, 0, 1, 2, 0, 0, 1, 1, 1, 0, 1, 1, 1, 1, 1, 0, 0, 1, 0, 1, 2, 1, 1, 0, 2, 2, 0, 2, 2, 1, 0, 1, 2, 1, 0, 2, 1, 1, 0, 0, 2, 2, 0, 0, 0, 1, 1, 1, 2, 2, 0, 1, 0, 1, 0, 2, 0, 2, 1, 2, 1, 1, 2, 1, 2, 1, 0, 1, 0, 1, 2, 2, 0, 0]\n"
          ]
        }
      ],
      "source": [
        "from tqdm import tqdm\n",
        "\n",
        "X1_train = X_train[y_train == 0].T\n",
        "X2_train = X_train[y_train == 1].T\n",
        "X3_train = X_train[y_train == 2].T\n",
        "\n",
        "U1, S1, Vh1 = np.linalg.svd(X1_train, full_matrices=False)\n",
        "U2, S2, Vh2 = np.linalg.svd(X2_train, full_matrices=False)\n",
        "U3, S3, Vh3 = np.linalg.svd(X3_train, full_matrices=False)\n",
        "\n",
        "predictions = []\n",
        "for i in range(len(X_test)):\n",
        "    x_sample = X_test.iloc[i]\n",
        "    x_1_perp = U1 @ (U1.T @ x_sample)\n",
        "    x_2_perp = U2 @ (U2.T @ x_sample)\n",
        "    x_3_perp = U3 @ (U3.T @ x_sample)\n",
        "\n",
        "    distance_x1 = np.linalg.norm(x_sample - x_1_perp)\n",
        "    distance_x2 = np.linalg.norm(x_sample - x_2_perp)\n",
        "    distance_x3 = np.linalg.norm(x_sample - x_3_perp)\n",
        "\n",
        "    prediction = classify_digit(distance_x1, distance_x2, distance_x3)\n",
        "    predictions.append(prediction)\n",
        "\n",
        "print(predictions)\n",
        "\n",
        "# Misclassification\n",
        "misclassified_count = 0\n",
        "for i in range(len(X_test)):\n",
        "    if predictions[i] != y_test.iloc[i]:\n",
        "        misclassified_count += 1\n",
        "\n",
        "misclassification_rate = misclassified_count / len(X_test)"
      ]
    },
    {
      "cell_type": "code",
      "source": [
        "misclassification_rate"
      ],
      "metadata": {
        "colab": {
          "base_uri": "https://localhost:8080/"
        },
        "id": "ceWvVcUDVdH0",
        "outputId": "0b92ab78-e4b5-4044-d3c5-3d861e79ed1a"
      },
      "execution_count": 29,
      "outputs": [
        {
          "output_type": "execute_result",
          "data": {
            "text/plain": [
              "0.07656791073489803"
            ]
          },
          "metadata": {},
          "execution_count": 29
        }
      ]
    },
    {
      "cell_type": "markdown",
      "source": [
        "93 percent accuracy for three digits of 0 and 1 and 2\n",
        "\n",
        "we can find U matrix for each digit and finally calculate prep and distances for all 10 classes"
      ],
      "metadata": {
        "id": "0lUefggtWlgl"
      }
    }
  ],
  "metadata": {
    "colab": {
      "provenance": [],
      "toc_visible": true,
      "authorship_tag": "ABX9TyMXrEmUO2lNZIYMdaR6TyQq",
      "include_colab_link": true
    },
    "kernelspec": {
      "display_name": "Python 3",
      "name": "python3"
    },
    "language_info": {
      "name": "python"
    }
  },
  "nbformat": 4,
  "nbformat_minor": 0
}